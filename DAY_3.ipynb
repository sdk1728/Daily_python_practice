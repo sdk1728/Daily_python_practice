{
 "cells": [
  {
   "cell_type": "code",
   "execution_count": 2,
   "id": "db115bc5",
   "metadata": {},
   "outputs": [
    {
     "name": "stdout",
     "output_type": "stream",
     "text": [
      "15:24:41\n",
      "15\n",
      "24\n",
      "41\n"
     ]
    }
   ],
   "source": [
    "import time\n",
    "timestamp = time.strftime('%H:%M:%S')\n",
    "print(timestamp)\n",
    "timestamp = time.strftime('%H')\n",
    "print(timestamp)\n",
    "timestamp = time.strftime('%M')\n",
    "print(timestamp)\n",
    "timestamp = time.strftime('%S')\n",
    "print(timestamp)\n",
    "# https://docs.python.org/3/library/time.html#time.strftime"
   ]
  },
  {
   "cell_type": "markdown",
   "id": "7e2775ab",
   "metadata": {},
   "source": [
    "## Program to print good moring/afternoon/night based on time"
   ]
  },
  {
   "cell_type": "code",
   "execution_count": 19,
   "id": "975c152d",
   "metadata": {},
   "outputs": [
    {
     "name": "stdout",
     "output_type": "stream",
     "text": [
      "Good Afternoon\n"
     ]
    }
   ],
   "source": [
    "def good_morning():\n",
    "    timestamp=time.strftime('%H')\n",
    "    hr_time=(int(timestamp))\n",
    "\n",
    "    if hr_time <= 13:\n",
    "        print('Good Morning')\n",
    "    elif hr_time in range(13,18):\n",
    "        print('Good Afternoon')\n",
    "    else:\n",
    "        print('Good Night')\n",
    "    #print(type(print(time.strftime('%H'))))\n",
    "    #if int(timestamp)<14:\n",
    "        #print('Good Morning')\n",
    "    \n",
    "    \n",
    "    \n",
    "good_morning()\n"
   ]
  },
  {
   "cell_type": "markdown",
   "id": "31e79181",
   "metadata": {},
   "source": [
    "## Match Case Statements\n",
    "### To implement switch-case like characteristics very similar to if-else functionality, we use a match case in python. If you are coming from a C, C++ or Java like language, you must have heard of switch-case statements. If this is your first language, dont worry as I will tell you everything you need to know about match case statements in this video!\n",
    "\n",
    "### A match statement will compare a given variable’s value to different shapes, also referred to as the pattern. The main idea is to keep on comparing the variable with all the present patterns until it fits into one.\n",
    "\n",
    "## The match case consists of three main entities :\n",
    "\n",
    "### The match keyword\n",
    "### One or more case clauses\n",
    "### Expression for each case\n",
    "The case clause consists of a pattern to be matched to the variable, a condition to be evaluated if the pattern matches, and a set of statements to be executed if the pattern matches.\n",
    "\n"
   ]
  },
  {
   "cell_type": "code",
   "execution_count": null,
   "id": "a8863182",
   "metadata": {},
   "outputs": [],
   "source": [
    "Syntax:\n",
    "match variable_name:\n",
    "            case ‘pattern1’ : //statement1\n",
    "            case ‘pattern2’ : //statement2\n",
    "            …            \n",
    "            case ‘pattern n’ : //statement n"
   ]
  },
  {
   "cell_type": "code",
   "execution_count": 21,
   "id": "3d14628f",
   "metadata": {},
   "outputs": [
    {
     "name": "stdout",
     "output_type": "stream",
     "text": [
      "Collecting match\n",
      "  Downloading match-0.3.2.tar.gz (8.9 kB)\n",
      "Requirement already satisfied: nltk>=3.4 in c:\\users\\hp\\anaconda3\\lib\\site-packages (from match) (3.6.5)\n",
      "Requirement already satisfied: regex>=2018.7.11 in c:\\users\\hp\\anaconda3\\lib\\site-packages (from match) (2021.8.3)\n",
      "Requirement already satisfied: click in c:\\users\\hp\\anaconda3\\lib\\site-packages (from nltk>=3.4->match) (8.0.3)\n",
      "Requirement already satisfied: joblib in c:\\users\\hp\\anaconda3\\lib\\site-packages (from nltk>=3.4->match) (1.1.0)\n",
      "Requirement already satisfied: tqdm in c:\\users\\hp\\anaconda3\\lib\\site-packages (from nltk>=3.4->match) (4.62.3)\n",
      "Requirement already satisfied: colorama in c:\\users\\hp\\anaconda3\\lib\\site-packages (from click->nltk>=3.4->match) (0.4.4)\n",
      "Building wheels for collected packages: match\n",
      "  Building wheel for match (setup.py): started\n",
      "  Building wheel for match (setup.py): finished with status 'done'\n",
      "  Created wheel for match: filename=match-0.3.2-py3-none-any.whl size=9322 sha256=a1c8c756d7606bb81cee932edd0127533224b402dd8e53feb562fcbf7e7980e6\n",
      "  Stored in directory: c:\\users\\hp\\appdata\\local\\pip\\cache\\wheels\\98\\e5\\42\\9b4784fed593d52647d607b590ff68a9f7281b4826b98547c2\n",
      "Successfully built match\n",
      "Installing collected packages: match\n",
      "Successfully installed match-0.3.2\n"
     ]
    }
   ],
   "source": [
    "!pip install match"
   ]
  },
  {
   "cell_type": "code",
   "execution_count": 23,
   "id": "636f21ac",
   "metadata": {},
   "outputs": [
    {
     "ename": "SyntaxError",
     "evalue": "invalid syntax (Temp/ipykernel_21120/47170138.py, line 4)",
     "output_type": "error",
     "traceback": [
      "\u001b[1;36m  File \u001b[1;32m\"C:\\Users\\HP\\AppData\\Local\\Temp/ipykernel_21120/47170138.py\"\u001b[1;36m, line \u001b[1;32m4\u001b[0m\n\u001b[1;33m    match x:\u001b[0m\n\u001b[1;37m          ^\u001b[0m\n\u001b[1;31mSyntaxError\u001b[0m\u001b[1;31m:\u001b[0m invalid syntax\n"
     ]
    }
   ],
   "source": [
    "import match\n",
    "x = 4\n",
    "# x is the variable to match\n",
    "match x:\n",
    "    # if x is 0\n",
    "    case 0:\n",
    "        print(\"x is zero\")\n",
    "    # case with if-condition\n",
    "    case 4 if x % 2 == 0:\n",
    "        print(\"x % 2 == 0 and case is 4\")\n",
    "    # Empty case with if-condition\n",
    "    case _ if x < 10:\n",
    "        print(\"x is < 10\")\n",
    "    # default case(will only be matched if the above cases were not matched)\n",
    "    # so it is basically just an else:\n",
    "    case _:\n",
    "        print(x)"
   ]
  },
  {
   "cell_type": "markdown",
   "id": "9254bc50",
   "metadata": {},
   "source": [
    "## Introduction to Loops\n",
    "### Sometimes a programmer wants to execute a group of statements a certain number of times. This can be done using loops. Based on this loops are further classified into following main types;\n",
    "\n",
    "## for loop\n",
    "## while loop\n",
    "### The for Loop\n",
    "for loops can iterate over a sequence of iterable objects in python. Iterating over a sequence is nothing but iterating over strings, lists, tuples, sets and dictionaries.\n",
    "\n",
    "Example: iterating over a string:"
   ]
  },
  {
   "cell_type": "code",
   "execution_count": 25,
   "id": "4a3e20c9",
   "metadata": {},
   "outputs": [
    {
     "name": "stdout",
     "output_type": "stream",
     "text": [
      "P, U, N, A, W, E, S, H, "
     ]
    }
   ],
   "source": [
    "name = 'PUNAWESH'\n",
    "for i in name:\n",
    "    print(i, end=\", \")"
   ]
  },
  {
   "cell_type": "code",
   "execution_count": 27,
   "id": "fab6a245",
   "metadata": {},
   "outputs": [
    {
     "name": "stdout",
     "output_type": "stream",
     "text": [
      "Red\n",
      "R\n",
      "e\n",
      "d\n",
      "Green\n",
      "G\n",
      "r\n",
      "e\n",
      "e\n",
      "n\n",
      "Blue\n",
      "B\n",
      "l\n",
      "u\n",
      "e\n",
      "Yellow\n",
      "Y\n",
      "e\n",
      "l\n",
      "l\n",
      "o\n",
      "w\n"
     ]
    }
   ],
   "source": [
    "colors = [\"Red\", \"Green\", \"Blue\", \"Yellow\"]\n",
    "for x in colors:\n",
    "    print(x)\n",
    "    for i in x:\n",
    "        print(i)"
   ]
  },
  {
   "cell_type": "markdown",
   "id": "c29aebef",
   "metadata": {},
   "source": [
    "## range():\n",
    "### What if we do not want to iterate over a sequence? What if we want to use for loop for a specific number of times?\n",
    "\n",
    "Here, we can use the range() function.\n",
    "\n",
    "Example:"
   ]
  },
  {
   "cell_type": "code",
   "execution_count": 28,
   "id": "1c56c39b",
   "metadata": {},
   "outputs": [
    {
     "name": "stdout",
     "output_type": "stream",
     "text": [
      "0\n",
      "1\n",
      "2\n",
      "3\n",
      "4\n"
     ]
    }
   ],
   "source": [
    "for k in range(5):\n",
    "    print(k)"
   ]
  },
  {
   "cell_type": "code",
   "execution_count": null,
   "id": "28c33fb8",
   "metadata": {},
   "outputs": [],
   "source": []
  }
 ],
 "metadata": {
  "kernelspec": {
   "display_name": "Python 3 (ipykernel)",
   "language": "python",
   "name": "python3"
  },
  "language_info": {
   "codemirror_mode": {
    "name": "ipython",
    "version": 3
   },
   "file_extension": ".py",
   "mimetype": "text/x-python",
   "name": "python",
   "nbconvert_exporter": "python",
   "pygments_lexer": "ipython3",
   "version": "3.9.7"
  }
 },
 "nbformat": 4,
 "nbformat_minor": 5
}
