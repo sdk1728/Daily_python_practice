{
 "cells": [
  {
   "cell_type": "code",
   "execution_count": 1,
   "id": "b39c0278",
   "metadata": {},
   "outputs": [
    {
     "name": "stdout",
     "output_type": "stream",
     "text": [
      "Hello world\n"
     ]
    }
   ],
   "source": [
    "print(\"Hello world\")"
   ]
  },
  {
   "cell_type": "markdown",
   "id": "91b3f328",
   "metadata": {},
   "source": [
    "## Modules and pip in Python!\n",
    "### Module is like a code library which can be used to borrow code written by somebody else in our python program. There are two types of modules in python:\n",
    "\n",
    "### Built in Modules - These modules are ready to import and use and ships with the python interpreter. there is no need to install such modules explicitly.\n",
    "### External Modules - These modules are imported from a third party file or can be installed using a package manager like pip or conda. Since this code is written by someone else, we can install different versions of a same module with time."
   ]
  },
  {
   "cell_type": "markdown",
   "id": "2b76ecf7",
   "metadata": {},
   "source": [
    "## The pip command\n",
    "### It can be used as a package manager pip to install a python module. Lets install a module called pandas using the following command\n",
    "\n",
    "pip install pandas\n",
    "\n",
    "### Using a module in Python (Usage)\n",
    "We use the import syntax to import a module in Python. Here is an example code:\n",
    "\n",
    "import pandas\n",
    "\n"
   ]
  },
  {
   "cell_type": "code",
   "execution_count": 2,
   "id": "067517bf",
   "metadata": {},
   "outputs": [
    {
     "ename": "SyntaxError",
     "evalue": "EOL while scanning string literal (Temp/ipykernel_21356/3125772046.py, line 1)",
     "output_type": "error",
     "traceback": [
      "\u001b[1;36m  File \u001b[1;32m\"C:\\Users\\HP\\AppData\\Local\\Temp/ipykernel_21356/3125772046.py\"\u001b[1;36m, line \u001b[1;32m1\u001b[0m\n\u001b[1;33m    print(\"Thank you Harry\u001b[0m\n\u001b[1;37m                           ^\u001b[0m\n\u001b[1;31mSyntaxError\u001b[0m\u001b[1;31m:\u001b[0m EOL while scanning string literal\n"
     ]
    }
   ],
   "source": [
    "print(\"Thank you Harry \n",
    "      for the tutorials\")"
   ]
  },
  {
   "cell_type": "code",
   "execution_count": 4,
   "id": "7dfd2428",
   "metadata": {},
   "outputs": [
    {
     "name": "stdout",
     "output_type": "stream",
     "text": [
      "Thank you harry \n",
      "for the tutorial\n"
     ]
    }
   ],
   "source": [
    "print(\"Thank you harry \\nfor the tutorial\")"
   ]
  },
  {
   "cell_type": "code",
   "execution_count": 5,
   "id": "dd3aa21c",
   "metadata": {},
   "outputs": [
    {
     "ename": "SyntaxError",
     "evalue": "invalid syntax (Temp/ipykernel_21356/2748647497.py, line 1)",
     "output_type": "error",
     "traceback": [
      "\u001b[1;36m  File \u001b[1;32m\"C:\\Users\\HP\\AppData\\Local\\Temp/ipykernel_21356/2748647497.py\"\u001b[1;36m, line \u001b[1;32m1\u001b[0m\n\u001b[1;33m    print(\"I have started learning the new course from harry \"100 days of python\")\u001b[0m\n\u001b[1;37m                                                              ^\u001b[0m\n\u001b[1;31mSyntaxError\u001b[0m\u001b[1;31m:\u001b[0m invalid syntax\n"
     ]
    }
   ],
   "source": [
    "print(\"I have started learning the new course from harry \"100 days of python\")"
   ]
  },
  {
   "cell_type": "code",
   "execution_count": 6,
   "id": "fa29582b",
   "metadata": {},
   "outputs": [
    {
     "name": "stdout",
     "output_type": "stream",
     "text": [
      "I have started learning the new course from harry \"100 days of python\" \n"
     ]
    }
   ],
   "source": [
    "print(\"I have started learning the new course from harry \\\"100 days of python\\\" \")"
   ]
  },
  {
   "cell_type": "code",
   "execution_count": 8,
   "id": "ecd79117",
   "metadata": {},
   "outputs": [
    {
     "ename": "SyntaxError",
     "evalue": "invalid syntax (Temp/ipykernel_21356/3172875521.py, line 1)",
     "output_type": "error",
     "traceback": [
      "\u001b[1;36m  File \u001b[1;32m\"C:\\Users\\HP\\AppData\\Local\\Temp/ipykernel_21356/3172875521.py\"\u001b[1;36m, line \u001b[1;32m1\u001b[0m\n\u001b[1;33m    print('I have started learning Harry's new course \\'100 days of python\\' ')\u001b[0m\n\u001b[1;37m                                         ^\u001b[0m\n\u001b[1;31mSyntaxError\u001b[0m\u001b[1;31m:\u001b[0m invalid syntax\n"
     ]
    }
   ],
   "source": [
    "print('I have started learning Harry's new course \\'100 days of python\\' ')"
   ]
  },
  {
   "cell_type": "code",
   "execution_count": 9,
   "id": "59e6c6b5",
   "metadata": {},
   "outputs": [
    {
     "name": "stdout",
     "output_type": "stream",
     "text": [
      "I have started learning Harry's new course '100 days of python' \n"
     ]
    }
   ],
   "source": [
    "print('I have started learning Harry\\'s new course \\'100 days of python\\' ')"
   ]
  },
  {
   "cell_type": "markdown",
   "id": "72dfe47d",
   "metadata": {},
   "source": [
    "## Python Comments\n",
    "### A comment is a part of the coding file that the programmer does not want to execute, rather the programmer uses it to either explain a block of code or to avoid the execution of a specific part of code while testing."
   ]
  },
  {
   "cell_type": "markdown",
   "id": "94357cba",
   "metadata": {},
   "source": [
    "## Escape Sequence Characters\n",
    "### To insert characters that cannot be directly used in a string, we use an escape sequence character.An escape sequence character is a backslash \\ followed by the character you want to insert.An example of a character that cannot be directly used in a string is a double quote inside a string that is surrounded by double quotes:"
   ]
  },
  {
   "cell_type": "code",
   "execution_count": 10,
   "id": "3b47c283",
   "metadata": {},
   "outputs": [
    {
     "name": "stdout",
     "output_type": "stream",
     "text": [
      "shubham 28 6\n"
     ]
    }
   ],
   "source": [
    "print(\"shubham\",28,6)"
   ]
  },
  {
   "cell_type": "code",
   "execution_count": 13,
   "id": "0ea838d0",
   "metadata": {},
   "outputs": [
    {
     "name": "stdout",
     "output_type": "stream",
     "text": [
      "shubham/28/6/1998\n"
     ]
    }
   ],
   "source": [
    "print(\"shubham\",28,6,1998, sep=\"/\")"
   ]
  },
  {
   "cell_type": "markdown",
   "id": "876fd595",
   "metadata": {},
   "source": [
    "## Variables and Data Types\n",
    "### What is a variable?\n",
    "### Variable is like a container that holds data. Very similar to how our containers in kitchen holds sugar, salt etc Creating a variable is like creating a placeholder in memory and assigning it some value. In Python its as easy as writing:\n",
    "\n",
    "a = 1\n",
    "b = True\n",
    "c = \"Harry\"\n",
    "d = None\n"
   ]
  },
  {
   "cell_type": "markdown",
   "id": "c74b8bf7",
   "metadata": {},
   "source": [
    "## Data type specifies the type of value a variable holds. This is required in programming to do various operations without causing an error.\n",
    "## In python, we can print the type of any operator using type function:\n",
    "\n",
    "a = 1\n",
    "print(type(a))\n",
    "b = \"1\"\n",
    "print(type(b))"
   ]
  },
  {
   "cell_type": "markdown",
   "id": "002c5778",
   "metadata": {},
   "source": [
    "## By default, python provides the following built-in data types:\n",
    "\n",
    "### 1. Numeric data: int, float, complex\n",
    "int: 3, -8, 0\n",
    "float: 7.349, -9.0, 0.0000001\n",
    "complex: 6 + 2i\n",
    "    \n",
    "### 2. Text data: str\n",
    "str: \"Hello World!!!\", \"Python Programming\"\n",
    "\n",
    "### 3. Boolean data:\n",
    "Boolean data consists of values True or False.\n",
    "\n",
    "### 4. Sequenced data: list, tuple\n",
    "list: A list is an ordered collection of data with elements separated by a comma and enclosed within square brackets. Lists are mutable and can be modified after creation.\n",
    "\n",
    "Example:\n",
    "\n",
    "list1 = [8, 2.3, [-4, 5], [\"apple\", \"banana\"]]\n",
    "print(list1)\n",
    "\n",
    "Output:\n",
    "\n",
    "[8, 2.3, [-4, 5], ['apple', 'banana']]\n",
    "\n",
    "Tuple: A tuple is an ordered collection of data with elements separated by a comma and enclosed within parentheses. Tuples are immutable and can not be modified after creation.\n",
    "\n",
    "Example:\n",
    "\n",
    "tuple1 = ((\"parrot\", \"sparrow\"), (\"Lion\", \"Tiger\"))\n",
    "print(tuple1)\n",
    "\n",
    "Output:\n",
    "\n",
    "(('parrot', 'sparrow'), ('Lion', 'Tiger'))\n",
    "\n",
    "### 5. Mapped data: dict\n",
    "dict: A dictionary is an unordered collection of data containing a key:value pair. The key:value pairs are enclosed within curly brackets.\n",
    "\n",
    "Example:\n",
    "\n",
    "dict1 = {\"name\":\"Sakshi\", \"age\":20, \"canVote\":True}\n",
    "print(dict1)\n",
    "\n",
    "Output:\n",
    "\n",
    "{'name': 'Sakshi', 'age': 20, 'canVote': True}"
   ]
  },
  {
   "cell_type": "code",
   "execution_count": 15,
   "id": "afd625c5",
   "metadata": {},
   "outputs": [
    {
     "name": "stdout",
     "output_type": "stream",
     "text": [
      "(2+3j) <class 'complex'>\n"
     ]
    }
   ],
   "source": [
    "a=complex(2,3)\n",
    "print(a,type(a))"
   ]
  },
  {
   "cell_type": "markdown",
   "id": "173bba62",
   "metadata": {},
   "source": [
    "## Operators\n",
    "Python has different types of operators for different operations.\n",
    "### Arithmetic operators\n",
    "Operator\tOperator Name\tExample\n",
    "   +         Addition\t     15+7\n",
    "   -       Subtraction\t     15-7\n",
    "   *      Multiplication     5*7\n",
    "   **       Exponential\t    5**3\n",
    "   /         Division\t    5/3\n",
    "   %         Modulus\t   15%7\n",
    "  //     Floor Division\t  15//7"
   ]
  },
  {
   "cell_type": "code",
   "execution_count": 16,
   "id": "c9c3c9d0",
   "metadata": {},
   "outputs": [
    {
     "data": {
      "text/plain": [
       "2"
      ]
     },
     "execution_count": 16,
     "metadata": {},
     "output_type": "execute_result"
    }
   ],
   "source": [
    "5%3"
   ]
  },
  {
   "cell_type": "code",
   "execution_count": 17,
   "id": "74d71d23",
   "metadata": {},
   "outputs": [
    {
     "data": {
      "text/plain": [
       "1"
      ]
     },
     "execution_count": 17,
     "metadata": {},
     "output_type": "execute_result"
    }
   ],
   "source": [
    "5//3"
   ]
  },
  {
   "cell_type": "code",
   "execution_count": 18,
   "id": "5f3c5e7d",
   "metadata": {},
   "outputs": [
    {
     "data": {
      "text/plain": [
       "2"
      ]
     },
     "execution_count": 18,
     "metadata": {},
     "output_type": "execute_result"
    }
   ],
   "source": [
    "15//7"
   ]
  },
  {
   "cell_type": "code",
   "execution_count": 21,
   "id": "16fc50e9",
   "metadata": {},
   "outputs": [
    {
     "data": {
      "text/plain": [
       "16"
      ]
     },
     "execution_count": 21,
     "metadata": {},
     "output_type": "execute_result"
    }
   ],
   "source": [
    "2**4"
   ]
  },
  {
   "cell_type": "code",
   "execution_count": 25,
   "id": "e624c418",
   "metadata": {},
   "outputs": [
    {
     "name": "stdout",
     "output_type": "stream",
     "text": [
      "54\n",
      "5\n",
      "54 + 5 = 59\n",
      "54 - 5 = 49\n",
      "54 * 5 = 270\n",
      "54 / 5 = 10.8\n",
      "54 // 5 = 10\n",
      "54 % 5 = 4\n"
     ]
    }
   ],
   "source": [
    "a=int(input())\n",
    "b=int(input())\n",
    "\n",
    "print(a, \"+\", b ,\"=\", a+b)\n",
    "print(a, \"-\", b ,\"=\", a-b)\n",
    "print(a, \"*\", b ,\"=\", a*b)\n",
    "print(a, \"/\", b ,\"=\", a/b)\n",
    "print(a, \"//\", b ,\"=\", a//b)\n",
    "print(a, \"%\", b ,\"=\", a%b)"
   ]
  },
  {
   "cell_type": "code",
   "execution_count": null,
   "id": "bbecc053",
   "metadata": {},
   "outputs": [],
   "source": []
  }
 ],
 "metadata": {
  "kernelspec": {
   "display_name": "Python 3 (ipykernel)",
   "language": "python",
   "name": "python3"
  },
  "language_info": {
   "codemirror_mode": {
    "name": "ipython",
    "version": 3
   },
   "file_extension": ".py",
   "mimetype": "text/x-python",
   "name": "python",
   "nbconvert_exporter": "python",
   "pygments_lexer": "ipython3",
   "version": "3.9.7"
  }
 },
 "nbformat": 4,
 "nbformat_minor": 5
}
