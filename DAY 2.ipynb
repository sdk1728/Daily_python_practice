{
 "cells": [
  {
   "cell_type": "markdown",
   "id": "991e720f",
   "metadata": {},
   "source": [
    "## Typecasting in python\n",
    "### The conversion of one data type into the other data type is known as type casting in python or type conversion in python.\n",
    "\n",
    "### Python supports a wide variety of functions or methods like: int(), float(), str(), ord(), hex(), oct(), tuple(), set(), list(), dict(), etc. for the type casting in python."
   ]
  },
  {
   "cell_type": "markdown",
   "id": "a813f332",
   "metadata": {},
   "source": [
    "## Two Types of Typecasting:\n",
    "### Explicit Conversion (Explicit type casting in python)\n",
    "### Implicit Conversion (Implicit type casting in python).\n",
    "#### Explicit typecasting: The conversion of one data type into another data type, done via developer or programmer's intervention or manually as per the requirement, is known as explicit type conversion.\n",
    "#### Implicit type casting: Data types in Python do not have the same level i.e. ordering of data types is not the same in Python. Some of the data types have higher-order, and some have lower order. While performing any operations on variables with different data types in Python, one of the variable's data types will be changed to the higher data type. According to the level, one data type is converted into other by the Python interpreter itself (automatically). This is called, implicit typecasting in python.\n",
    "\n",
    "#### Python converts a smaller data type to a higher data type to prevent data loss."
   ]
  },
  {
   "cell_type": "code",
   "execution_count": 3,
   "id": "623637ef",
   "metadata": {},
   "outputs": [
    {
     "ename": "TypeError",
     "evalue": "can only concatenate str (not \"int\") to str",
     "output_type": "error",
     "traceback": [
      "\u001b[1;31m---------------------------------------------------------------------------\u001b[0m",
      "\u001b[1;31mTypeError\u001b[0m                                 Traceback (most recent call last)",
      "\u001b[1;32m~\\AppData\\Local\\Temp/ipykernel_18700/225919143.py\u001b[0m in \u001b[0;36m<module>\u001b[1;34m\u001b[0m\n\u001b[0;32m      1\u001b[0m \u001b[0mstring\u001b[0m \u001b[1;33m=\u001b[0m \u001b[1;34m\"15\"\u001b[0m\u001b[1;33m\u001b[0m\u001b[1;33m\u001b[0m\u001b[0m\n\u001b[0;32m      2\u001b[0m \u001b[0mnumber\u001b[0m \u001b[1;33m=\u001b[0m \u001b[1;36m7\u001b[0m\u001b[1;33m\u001b[0m\u001b[1;33m\u001b[0m\u001b[0m\n\u001b[1;32m----> 3\u001b[1;33m \u001b[0msum\u001b[0m\u001b[1;33m=\u001b[0m\u001b[0mstring\u001b[0m\u001b[1;33m+\u001b[0m\u001b[0mnumber\u001b[0m\u001b[1;33m\u001b[0m\u001b[1;33m\u001b[0m\u001b[0m\n\u001b[0m\u001b[0;32m      4\u001b[0m \u001b[0mprint\u001b[0m\u001b[1;33m(\u001b[0m\u001b[1;34m\"The Sum of both the numbers is: \"\u001b[0m\u001b[1;33m,\u001b[0m \u001b[0msum\u001b[0m\u001b[1;33m)\u001b[0m\u001b[1;33m\u001b[0m\u001b[1;33m\u001b[0m\u001b[0m\n\u001b[0;32m      5\u001b[0m \u001b[1;31m#type error\u001b[0m\u001b[1;33m\u001b[0m\u001b[1;33m\u001b[0m\u001b[0m\n",
      "\u001b[1;31mTypeError\u001b[0m: can only concatenate str (not \"int\") to str"
     ]
    }
   ],
   "source": [
    "string = \"15\"\n",
    "number = 7\n",
    "sum=string+number\n",
    "print(\"The Sum of both the numbers is: \", sum)\n",
    "#type error"
   ]
  },
  {
   "cell_type": "code",
   "execution_count": 5,
   "id": "b37c0519",
   "metadata": {},
   "outputs": [
    {
     "name": "stdout",
     "output_type": "stream",
     "text": [
      "The Sum of both the numbers is:  22\n"
     ]
    }
   ],
   "source": [
    "#example: Explicit typecasting\n",
    "string_number = int(string) #throws an error if the string is not a valid integer\n",
    "sum= number + string_number\n",
    "print(\"The Sum of both the numbers is: \", sum)"
   ]
  },
  {
   "cell_type": "code",
   "execution_count": 7,
   "id": "6e61966c",
   "metadata": {},
   "outputs": [
    {
     "name": "stdout",
     "output_type": "stream",
     "text": [
      "<class 'int'>\n",
      "<class 'float'>\n",
      "10.0\n",
      "<class 'float'>\n"
     ]
    }
   ],
   "source": [
    "# example: Implicit typecasting\n",
    "# Python automatically converts\n",
    "# a to int\n",
    "a = 7\n",
    "print(type(a))\n",
    " \n",
    "# Python automatically converts b to float\n",
    "b = 3.0\n",
    "print(type(b))\n",
    " \n",
    "# Python automatically converts c to float as it is a float addition\n",
    "c = a + b\n",
    "print(c)\n",
    "print(type(c))"
   ]
  },
  {
   "cell_type": "markdown",
   "id": "afbded0a",
   "metadata": {},
   "source": [
    "## What are strings?\n",
    "### In python, anything that you enclose between single or double quotation marks is considered a string. A string is essentially a sequence or array of textual data. Strings are used when working with Unicode characters."
   ]
  },
  {
   "cell_type": "code",
   "execution_count": 8,
   "id": "caf82665",
   "metadata": {},
   "outputs": [
    {
     "name": "stdout",
     "output_type": "stream",
     "text": [
      "Hello, Shubham\n"
     ]
    }
   ],
   "source": [
    "name = \"Shubham\"\n",
    "print(\"Hello, \" + name)"
   ]
  },
  {
   "cell_type": "markdown",
   "id": "85cdf7b7",
   "metadata": {},
   "source": [
    "### Multiline Strings\n",
    "#### If our string has multiple lines, we can create them like this:"
   ]
  },
  {
   "cell_type": "code",
   "execution_count": 9,
   "id": "cd24ac5b",
   "metadata": {},
   "outputs": [
    {
     "name": "stdout",
     "output_type": "stream",
     "text": [
      "Lorem ipsum dolor sit amet,\n",
      "consectetur adipiscing elit,\n",
      "sed do eiusmod tempor incididunt\n",
      "ut labore et dolore magna aliqua.\n"
     ]
    }
   ],
   "source": [
    "a = \"\"\"Lorem ipsum dolor sit amet,\n",
    "consectetur adipiscing elit,\n",
    "sed do eiusmod tempor incididunt\n",
    "ut labore et dolore magna aliqua.\"\"\"\n",
    "print(a)"
   ]
  },
  {
   "cell_type": "markdown",
   "id": "e3cee0ea",
   "metadata": {},
   "source": [
    "## Accessing Characters of a String\n",
    "### In Python, string is like an array of characters. We can access parts of string by using its index which starts from 0.\n",
    "### Square brackets can be used to access elements of the string."
   ]
  },
  {
   "cell_type": "code",
   "execution_count": 10,
   "id": "09c577df",
   "metadata": {},
   "outputs": [
    {
     "name": "stdout",
     "output_type": "stream",
     "text": [
      "S\n",
      "h\n"
     ]
    }
   ],
   "source": [
    "print(name[0])\n",
    "print(name[1])"
   ]
  },
  {
   "cell_type": "markdown",
   "id": "5f76c01f",
   "metadata": {},
   "source": [
    "### Looping through the string\n",
    "### We can loop through strings using a for loop like this:"
   ]
  },
  {
   "cell_type": "code",
   "execution_count": 11,
   "id": "185177d9",
   "metadata": {},
   "outputs": [
    {
     "name": "stdout",
     "output_type": "stream",
     "text": [
      "S\n",
      "h\n",
      "u\n",
      "b\n",
      "h\n",
      "a\n",
      "m\n"
     ]
    }
   ],
   "source": [
    "for i in name:\n",
    "    print(i)"
   ]
  },
  {
   "cell_type": "markdown",
   "id": "99d2e3b1",
   "metadata": {},
   "source": [
    "## String Slicing & Operations on String\n",
    "### Length of a String\n",
    "#### We can find the length of a string using len() function."
   ]
  },
  {
   "cell_type": "code",
   "execution_count": 12,
   "id": "c571b6fb",
   "metadata": {},
   "outputs": [
    {
     "name": "stdout",
     "output_type": "stream",
     "text": [
      "Mango is a 5 letter word.\n"
     ]
    }
   ],
   "source": [
    "fruit = \"Mango\"\n",
    "len1 = len(fruit)\n",
    "print(\"Mango is a\", len1, \"letter word.\")"
   ]
  },
  {
   "cell_type": "markdown",
   "id": "4ffcc8fd",
   "metadata": {},
   "source": [
    "### String as an array\n",
    "A string is essentially a sequence of characters also called an array. Thus we can access the elements of this array."
   ]
  },
  {
   "cell_type": "code",
   "execution_count": 13,
   "id": "46122f78",
   "metadata": {},
   "outputs": [
    {
     "name": "stdout",
     "output_type": "stream",
     "text": [
      "5\n"
     ]
    }
   ],
   "source": [
    "fruit = \"Mango\"\n",
    "mangoLen = len(fruit)\n",
    "print(mangoLen)\n"
   ]
  },
  {
   "cell_type": "code",
   "execution_count": 17,
   "id": "249b2609",
   "metadata": {},
   "outputs": [
    {
     "name": "stdout",
     "output_type": "stream",
     "text": [
      "Mang\n",
      "ang\n",
      "Mango\n",
      "Ma\n",
      "Ma\n",
      "\n",
      "ng\n"
     ]
    }
   ],
   "source": [
    "print(fruit[0:4]) # including 0 but not 4\n",
    "print(fruit[1:4]) # including 1 but not 4\n",
    "print(fruit[:5])  # 0 to 4th character\n",
    "print(fruit[0:-3]) # o to (5-3=2) 2nd character ie[0:2]=0,1 = Ma\n",
    "print(fruit[:len(fruit)-3])\n",
    "print(fruit[-1:len(fruit) - 3])\n",
    "print(fruit[-3:-1]) # (5-3=2) to (5-1=4) ie.[2:4]= 2,3 ie.ng\n",
    "\n"
   ]
  },
  {
   "cell_type": "code",
   "execution_count": 16,
   "id": "e23c1b1a",
   "metadata": {},
   "outputs": [
    {
     "name": "stdout",
     "output_type": "stream",
     "text": [
      "ar\n"
     ]
    }
   ],
   "source": [
    "# Quick Quiz:\n",
    "nm = \"Harry\"\n",
    "print(nm[-4:-2]) # (5-4=1) to (5-2=3) ie.[1:3]= 1,2,=ar\n",
    "# @codewithharry"
   ]
  },
  {
   "cell_type": "markdown",
   "id": "eae88494",
   "metadata": {},
   "source": [
    "## String methods\n",
    "Python provides a set of built-in methods that we can use to alter and modify the strings.\n"
   ]
  },
  {
   "cell_type": "markdown",
   "id": "2985db5e",
   "metadata": {},
   "source": [
    "## upper() :\n",
    "The upper() method converts a string to upper case."
   ]
  },
  {
   "cell_type": "code",
   "execution_count": 19,
   "id": "bf415269",
   "metadata": {},
   "outputs": [
    {
     "name": "stdout",
     "output_type": "stream",
     "text": [
      "ABCDEFGHIJ\n"
     ]
    }
   ],
   "source": [
    "str1 = \"AbcDEfghIJ\"\n",
    "print(str1.upper())"
   ]
  },
  {
   "cell_type": "markdown",
   "id": "ab2953cd",
   "metadata": {},
   "source": [
    "## lower()\n",
    "The lower() method converts a string to lower case."
   ]
  },
  {
   "cell_type": "code",
   "execution_count": 20,
   "id": "581022cf",
   "metadata": {},
   "outputs": [
    {
     "name": "stdout",
     "output_type": "stream",
     "text": [
      "abcdefghij\n"
     ]
    }
   ],
   "source": [
    "str1 = \"AbcDEfghIJ\"\n",
    "print(str1.lower())"
   ]
  },
  {
   "cell_type": "markdown",
   "id": "d1308a2d",
   "metadata": {},
   "source": [
    "## strip() :\n",
    "The strip() method removes any white spaces before and after the string."
   ]
  },
  {
   "cell_type": "code",
   "execution_count": 22,
   "id": "6e850384",
   "metadata": {},
   "outputs": [
    {
     "name": "stdout",
     "output_type": "stream",
     "text": [
      "<built-in method strip of str object at 0x000002B333ADA330>\n"
     ]
    }
   ],
   "source": [
    "str2 = \" Silver Spoon \"\n",
    "print(str2.strip)"
   ]
  },
  {
   "cell_type": "markdown",
   "id": "dfec74b5",
   "metadata": {},
   "source": [
    "## rstrip() :\n",
    "the rstrip() removes any trailing characters."
   ]
  },
  {
   "cell_type": "code",
   "execution_count": 23,
   "id": "d628e662",
   "metadata": {},
   "outputs": [
    {
     "name": "stdout",
     "output_type": "stream",
     "text": [
      "Hello \n"
     ]
    }
   ],
   "source": [
    "str3 = \"Hello !!!\"\n",
    "print(str3.rstrip(\"!\"))"
   ]
  },
  {
   "cell_type": "markdown",
   "id": "433e4aa9",
   "metadata": {},
   "source": [
    "## replace() :\n",
    "The replace() method replaces all occurences of a string with another string"
   ]
  },
  {
   "cell_type": "code",
   "execution_count": 24,
   "id": "5c493775",
   "metadata": {},
   "outputs": [
    {
     "name": "stdout",
     "output_type": "stream",
     "text": [
      "Silver Moon\n"
     ]
    }
   ],
   "source": [
    "str2 = \"Silver Spoon\"\n",
    "print(str2.replace(\"Sp\", \"M\"))"
   ]
  },
  {
   "cell_type": "markdown",
   "id": "a582974b",
   "metadata": {},
   "source": [
    "## split() :\n",
    "The split() method splits the given string at the specified instance and returns the separated strings as list items."
   ]
  },
  {
   "cell_type": "code",
   "execution_count": 25,
   "id": "01906d01",
   "metadata": {},
   "outputs": [
    {
     "name": "stdout",
     "output_type": "stream",
     "text": [
      "['Silver', 'Spoon']\n"
     ]
    }
   ],
   "source": [
    "str2 = \"Silver Spoon\"\n",
    "print(str2.split(\" \"))      #Splits the string at the whitespace \" \"."
   ]
  },
  {
   "cell_type": "markdown",
   "id": "25521d85",
   "metadata": {},
   "source": [
    "## capitalize() :\n",
    "The capitalize() method turns only the first character of the string to uppercase and the rest other characters of the string are turned to lowercase. The string has no effect if the first character is already uppercase."
   ]
  },
  {
   "cell_type": "code",
   "execution_count": 26,
   "id": "034728bf",
   "metadata": {},
   "outputs": [
    {
     "name": "stdout",
     "output_type": "stream",
     "text": [
      "Hello\n",
      "Hello world\n"
     ]
    }
   ],
   "source": [
    "str1 = \"hello\"\n",
    "capStr1 = str1.capitalize()\n",
    "print(capStr1)\n",
    "str2 = \"hello WorlD\"\n",
    "capStr2 = str2.capitalize()\n",
    "print(capStr2)"
   ]
  },
  {
   "cell_type": "markdown",
   "id": "6e8d38ef",
   "metadata": {},
   "source": [
    "## center() :\n",
    "The center() method aligns the string to the center as per the parameters given by the user."
   ]
  },
  {
   "cell_type": "code",
   "execution_count": 28,
   "id": "d9750653",
   "metadata": {},
   "outputs": [
    {
     "name": "stdout",
     "output_type": "stream",
     "text": [
      "            Welcome to the Console!!!             \n",
      "............Welcome to the Console!!!.............\n"
     ]
    }
   ],
   "source": [
    "str1 = \"Welcome to the Console!!!\"\n",
    "print(str1.center(50))\n",
    "\n",
    "str1 = \"Welcome to the Console!!!\"\n",
    "print(str1.center(50, \".\"))"
   ]
  },
  {
   "cell_type": "markdown",
   "id": "c3fe73ac",
   "metadata": {},
   "source": [
    "## count() :\n",
    "The count() method returns the number of times the given value has occurred within the given string.\n"
   ]
  },
  {
   "cell_type": "code",
   "execution_count": 29,
   "id": "6f7f0043",
   "metadata": {},
   "outputs": [
    {
     "name": "stdout",
     "output_type": "stream",
     "text": [
      "4\n"
     ]
    }
   ],
   "source": [
    "str2 = \"Abracadabra\"\n",
    "countStr = str2.count(\"a\")\n",
    "print(countStr)"
   ]
  },
  {
   "cell_type": "markdown",
   "id": "bebe3c6c",
   "metadata": {},
   "source": [
    "## endswith() :\n",
    "The endswith() method checks if the string ends with a given value. If yes then return True, else return False."
   ]
  },
  {
   "cell_type": "code",
   "execution_count": 30,
   "id": "5b1a4475",
   "metadata": {},
   "outputs": [
    {
     "name": "stdout",
     "output_type": "stream",
     "text": [
      "True\n"
     ]
    }
   ],
   "source": [
    "str1 = \"Welcome to the Console !!!\"\n",
    "print(str1.endswith(\"!!!\"))"
   ]
  },
  {
   "cell_type": "code",
   "execution_count": 31,
   "id": "714a0f1b",
   "metadata": {},
   "outputs": [
    {
     "name": "stdout",
     "output_type": "stream",
     "text": [
      "True\n"
     ]
    }
   ],
   "source": [
    "## We can even also check for a value in-between the st\n",
    "## ring by providing start and end index positions.\n",
    "str1 = \"Welcome to the Console !!!\"\n",
    "print(str1.endswith(\"to\", 4, 10))"
   ]
  },
  {
   "cell_type": "markdown",
   "id": "f3f27452",
   "metadata": {},
   "source": [
    "## find() :\n",
    "The find() method searches for the first occurrence of the given value and returns the index where it is present. If given value is absent from the string then return -1."
   ]
  },
  {
   "cell_type": "code",
   "execution_count": 33,
   "id": "5934e1c8",
   "metadata": {},
   "outputs": [
    {
     "name": "stdout",
     "output_type": "stream",
     "text": [
      "10\n",
      "-1\n"
     ]
    }
   ],
   "source": [
    "str1 = \"He's name is Dan. He is an honest man.\"\n",
    "print(str1.find(\"is\"))\n",
    "\n",
    "str1 = \"He's name is Dan. He is an honest man.\"\n",
    "print(str1.find(\"Daniel\"))"
   ]
  },
  {
   "cell_type": "markdown",
   "id": "9b0bd70a",
   "metadata": {},
   "source": [
    "## index() :\n",
    "The index() method searches for the first occurrence of the given value and returns the index where it is present. If given value is absent from the string then raise an exception."
   ]
  },
  {
   "cell_type": "code",
   "execution_count": 34,
   "id": "4033fed5",
   "metadata": {},
   "outputs": [
    {
     "name": "stdout",
     "output_type": "stream",
     "text": [
      "13\n"
     ]
    }
   ],
   "source": [
    "str1 = \"He's name is Dan. Dan is an honest man.\"\n",
    "print(str1.index(\"Dan\"))"
   ]
  },
  {
   "cell_type": "markdown",
   "id": "e524386b",
   "metadata": {},
   "source": [
    "### As we can see, this method is somewhat similar to the index() method. The major difference being that index() raises an exception if value is absent whereas find() does not.\n",
    "\n"
   ]
  },
  {
   "cell_type": "code",
   "execution_count": 35,
   "id": "426cd82c",
   "metadata": {},
   "outputs": [
    {
     "ename": "ValueError",
     "evalue": "substring not found",
     "output_type": "error",
     "traceback": [
      "\u001b[1;31m---------------------------------------------------------------------------\u001b[0m",
      "\u001b[1;31mValueError\u001b[0m                                Traceback (most recent call last)",
      "\u001b[1;32m~\\AppData\\Local\\Temp/ipykernel_18700/2510521307.py\u001b[0m in \u001b[0;36m<module>\u001b[1;34m\u001b[0m\n\u001b[0;32m      1\u001b[0m \u001b[0mstr1\u001b[0m \u001b[1;33m=\u001b[0m \u001b[1;34m\"He's name is Dan. Dan is an honest man.\"\u001b[0m\u001b[1;33m\u001b[0m\u001b[1;33m\u001b[0m\u001b[0m\n\u001b[1;32m----> 2\u001b[1;33m \u001b[0mprint\u001b[0m\u001b[1;33m(\u001b[0m\u001b[0mstr1\u001b[0m\u001b[1;33m.\u001b[0m\u001b[0mindex\u001b[0m\u001b[1;33m(\u001b[0m\u001b[1;34m\"Daniel\"\u001b[0m\u001b[1;33m)\u001b[0m\u001b[1;33m)\u001b[0m\u001b[1;33m\u001b[0m\u001b[1;33m\u001b[0m\u001b[0m\n\u001b[0m",
      "\u001b[1;31mValueError\u001b[0m: substring not found"
     ]
    }
   ],
   "source": [
    "str1 = \"He's name is Dan. Dan is an honest man.\"\n",
    "print(str1.index(\"Daniel\"))"
   ]
  },
  {
   "cell_type": "markdown",
   "id": "a63c7945",
   "metadata": {},
   "source": [
    "## isalnum() :\n",
    "The isalnum() method returns True only if the entire string only consists of A-Z, a-z, 0-9. If any other characters or punctuations are present, then it returns False."
   ]
  },
  {
   "cell_type": "code",
   "execution_count": 36,
   "id": "bf1755cb",
   "metadata": {},
   "outputs": [
    {
     "name": "stdout",
     "output_type": "stream",
     "text": [
      "True\n"
     ]
    }
   ],
   "source": [
    "str1 = \"WelcomeToTheConsole\"\n",
    "print(str1.isalnum())"
   ]
  },
  {
   "cell_type": "markdown",
   "id": "621c832a",
   "metadata": {},
   "source": [
    "## isalpha() :\n",
    "The isalnum() method returns True only if the entire string only consists of A-Z, a-z. If any other characters or punctuations or numbers(0-9) are present, then it returns False"
   ]
  },
  {
   "cell_type": "code",
   "execution_count": 37,
   "id": "a1143544",
   "metadata": {},
   "outputs": [
    {
     "name": "stdout",
     "output_type": "stream",
     "text": [
      "True\n"
     ]
    }
   ],
   "source": [
    "str1 = \"Welcome\"\n",
    "print(str1.isalpha())"
   ]
  },
  {
   "cell_type": "markdown",
   "id": "ad758a95",
   "metadata": {},
   "source": [
    "## islower() :\n",
    "The islower() method returns True if all the characters in the string are lower case, else it returns False"
   ]
  },
  {
   "cell_type": "code",
   "execution_count": 40,
   "id": "80b7517d",
   "metadata": {},
   "outputs": [
    {
     "name": "stdout",
     "output_type": "stream",
     "text": [
      "True\n"
     ]
    }
   ],
   "source": [
    "str1 = \"hello world\"\n",
    "print(str1.islower())"
   ]
  },
  {
   "cell_type": "markdown",
   "id": "a5dbea09",
   "metadata": {},
   "source": [
    "## isprintable() :\n",
    "The isprintable() method returns True if all the values within the given string are printable, if not, then return False."
   ]
  },
  {
   "cell_type": "code",
   "execution_count": 41,
   "id": "1c4ae6b8",
   "metadata": {},
   "outputs": [
    {
     "name": "stdout",
     "output_type": "stream",
     "text": [
      "True\n"
     ]
    }
   ],
   "source": [
    "str1 = \"We wish you a Merry Christmas\"\n",
    "print(str1.isprintable())"
   ]
  },
  {
   "cell_type": "markdown",
   "id": "23582e77",
   "metadata": {},
   "source": [
    "## isspace() :\n",
    "The isspace() method returns True only and only if the string contains white spaces, else returns False."
   ]
  },
  {
   "cell_type": "code",
   "execution_count": 43,
   "id": "028a3943",
   "metadata": {},
   "outputs": [
    {
     "name": "stdout",
     "output_type": "stream",
     "text": [
      "True\n",
      "True\n"
     ]
    }
   ],
   "source": [
    "str1 = \"        \"       #using Spacebar\n",
    "print(str1.isspace())\n",
    "str2 = \"        \"       #using Tab\n",
    "print(str2.isspace())"
   ]
  },
  {
   "cell_type": "markdown",
   "id": "88f48837",
   "metadata": {},
   "source": [
    "## istitle() :\n",
    "The istitile() returns True only if the first letter of each word of the string is capitalized, else it returns False.\n"
   ]
  },
  {
   "cell_type": "code",
   "execution_count": 45,
   "id": "98d83941",
   "metadata": {},
   "outputs": [
    {
     "name": "stdout",
     "output_type": "stream",
     "text": [
      "True\n",
      "False\n"
     ]
    }
   ],
   "source": [
    "str1 = \"World Health Organization\" \n",
    "print(str1.istitle())\n",
    "\n",
    "str2 = \"To kill a Mocking bird\"\n",
    "print(str2.istitle())"
   ]
  },
  {
   "cell_type": "markdown",
   "id": "50aef0e7",
   "metadata": {},
   "source": [
    "## isupper() :\n",
    "The isupper() method returns True if all the characters in the string are upper case, else it returns False."
   ]
  },
  {
   "cell_type": "code",
   "execution_count": 46,
   "id": "35b2c806",
   "metadata": {},
   "outputs": [
    {
     "name": "stdout",
     "output_type": "stream",
     "text": [
      "True\n"
     ]
    }
   ],
   "source": [
    "str1 = \"WORLD HEALTH ORGANIZATION\" \n",
    "print(str1.isupper())"
   ]
  },
  {
   "cell_type": "markdown",
   "id": "215aab0d",
   "metadata": {},
   "source": [
    "## startswith() :\n",
    "The endswith() method checks if the string starts with a given value. If yes then return True, else return False."
   ]
  },
  {
   "cell_type": "code",
   "execution_count": 48,
   "id": "fdb1f544",
   "metadata": {},
   "outputs": [
    {
     "name": "stdout",
     "output_type": "stream",
     "text": [
      "True\n"
     ]
    }
   ],
   "source": [
    "str1 = \"Python is a Interpreted Language\" \n",
    "print(str1.startswith(\"Python\"))"
   ]
  },
  {
   "cell_type": "markdown",
   "id": "4451509c",
   "metadata": {},
   "source": [
    "## swapcase() :\n",
    "The swapcase() method changes the character casing of the string. Upper case are converted to lower case and lower case to upper case"
   ]
  },
  {
   "cell_type": "code",
   "execution_count": 49,
   "id": "ec47e321",
   "metadata": {},
   "outputs": [
    {
     "name": "stdout",
     "output_type": "stream",
     "text": [
      "pYTHON IS A iNTERPRETED lANGUAGE\n"
     ]
    }
   ],
   "source": [
    "str1 = \"Python is a Interpreted Language\" \n",
    "print(str1.swapcase())"
   ]
  },
  {
   "cell_type": "markdown",
   "id": "e2fbfb90",
   "metadata": {},
   "source": [
    "## title() :\n",
    "The title() method capitalizes each letter of the word within the string"
   ]
  },
  {
   "cell_type": "code",
   "execution_count": 50,
   "id": "90b67e4b",
   "metadata": {},
   "outputs": [
    {
     "name": "stdout",
     "output_type": "stream",
     "text": [
      "He'S Name Is Dan. Dan Is An Honest Man.\n"
     ]
    }
   ],
   "source": [
    "str1 = \"He's name is Dan. Dan is an honest man.\"\n",
    "print(str1.title())"
   ]
  },
  {
   "cell_type": "code",
   "execution_count": null,
   "id": "33c1ceae",
   "metadata": {},
   "outputs": [],
   "source": []
  }
 ],
 "metadata": {
  "kernelspec": {
   "display_name": "Python 3 (ipykernel)",
   "language": "python",
   "name": "python3"
  },
  "language_info": {
   "codemirror_mode": {
    "name": "ipython",
    "version": 3
   },
   "file_extension": ".py",
   "mimetype": "text/x-python",
   "name": "python",
   "nbconvert_exporter": "python",
   "pygments_lexer": "ipython3",
   "version": "3.9.7"
  }
 },
 "nbformat": 4,
 "nbformat_minor": 5
}
